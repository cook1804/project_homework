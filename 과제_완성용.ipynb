{
  "nbformat": 4,
  "nbformat_minor": 0,
  "metadata": {
    "colab": {
      "name": "과제_완성용.ipynb",
      "private_outputs": true,
      "provenance": [],
      "collapsed_sections": []
    },
    "kernelspec": {
      "name": "python3",
      "display_name": "Python 3"
    },
    "language_info": {
      "name": "python"
    }
  },
  "cells": [
    {
      "cell_type": "code",
      "metadata": {
        "id": "-aS9hU9p1rjo"
      },
      "source": [
        "from google.colab import drive\n",
        "drive.mount('/content/drive')"
      ],
      "execution_count": null,
      "outputs": []
    },
    {
      "cell_type": "code",
      "metadata": {
        "id": "ECj84sTYUKRq"
      },
      "source": [
        "import numpy as np\n",
        "import pandas as pd\n",
        "\n",
        "with open('/content/drive/MyDrive/Colab Notebooks/project/injury45.bin','rb') as f:    #injury45.bin 읽어오기.\n",
        "    filename_bin = f.read()\n",
        "    number_of_frames= len(filename_bin) // 1469  # Frame Data 개수 : 1046\n",
        "    \n",
        "    \n",
        "    # DataFrame column 만들기\n",
        "    col = ['radar_number', 'reception_time']\n",
        "    In_phase_data_name = []\n",
        "    Quadrature_data_name = []\n",
        "    Amplitude_data_name= []\n",
        "    for i in range(181):\n",
        "        In_phase_data_number = 'In_phase_data_{}'.format(i+1)\n",
        "        Quadrature_data_number = 'Qudrature_data_{}'.format(i+1)\n",
        "        Amplitude_data_number = 'Amplitude_{}'.format(i+1)\n",
        "\n",
        "    # append()로 값을 data_list에 삽입, extend()로 리스트 병합\n",
        "        In_phase_data_name.append(In_phase_data_number)\n",
        "        Quadrature_data_name.append(Quadrature_data_number)\n",
        "        Amplitude_data_name.append(Amplitude_data_number)\n",
        "\n",
        "    col.extend(In_phase_data_name)\n",
        "    col.extend(Quadrature_data_name)\n",
        "    col.extend(Amplitude_data_name)\n",
        "\n",
        "    #데이터 프레임 생성\n",
        "    final_df = pd.DataFrame(index = range(number_of_frames),columns=col)  #data의 수만큼 인덱스를 만들고, columns에는 col을 넣는다.\n",
        "\n",
        "    \n",
        " \n",
        "    for num in range(number_of_frames):  #number_of_frames\n",
        "        # print('Data-Frame-number :','dataframe_{}'.format(num+1))\n",
        "        globals()['dataframe_{}'.format(num+1)] = filename_bin[1469*num:1469*(num+1)] # Raw Data 한 프레임을 순차적으로  dataframe_(num+1) 변수에 저장, globals(): 변수명 자동화 함수 -> injury45_dataframe_0, injury45_dataframe_1, injury45_dataframe_2 ... injury45_dataframe_1046 변수를 자동으로 만들어 준다.  \n",
        "        \n",
        "        \n",
        "        #rader번호 출력\n",
        "        rader_number = globals()['dataframe_{}'.format(num+1)][0] #1byte의 바이너리 데이터를 추출하면 자동으로 unpack이 된다.\n",
        "        # print(f'rader_number: {rader_number}')     # 1이 출력.\n",
        "\n",
        "        #수신시각 출력\n",
        "        reception_time = np.frombuffer(globals()['dataframe_{}'.format(num+1)][1:9],dtype='<d')   # reception_time : 수신 시각, frombuffer()은 바이너리 데이터로 패킹된 데이터를 언 패킹해줌.'<d' : 데이터순서가 리틀 엔디안 방식으로 된 데이터를 8byte 크기의 float 형으로 변환 하겠다는 의미.\n",
        "        # print(f'reception_time: {reception_time}')\n",
        "\n",
        "        #1부터 181까지 In-phase-data 출력\n",
        "        In_phase_data = np.frombuffer(globals()['dataframe_{}'.format(num+1)][21:745],dtype='<f')  \n",
        "        # print(f'in-phase-data의 개수 :{len(In_phase_data)}')        # In_phase_data의 개수 \n",
        "        # print(In_phase_data)             \n",
        "\n",
        "        # 1부터 181까지 Quadrature_data 출력 \n",
        "        Quadrature_data = np.frombuffer(globals()['dataframe_{}'.format(num+1)][745:],dtype='<f')\n",
        "        # print(f'Quadrature_data의 개수 :{len(Quadrature_data)}')\n",
        "        # print(Quadrature_data)\n",
        "\n",
        "        #해당 Data-Frame 레이더 신호의 진폭(Amplitude) 출력  \n",
        "        # Amplitude = ((In_phase_data)**2 + (Quadrature_data)**2) ** (1/2)\n",
        "        Amplitude = np.sqrt(np.square(In_phase_data) + np.square(Quadrature_data))\n",
        "        # print(f'Amplitude의 개수 :{len(Amplitude)}')\n",
        "        # print(Amplitude)\n",
        "\n",
        "\n",
        "        \n",
        "        #tolist()사용하여 numpy array를 list로 변환. \n",
        "        reception_time = reception_time.tolist()\n",
        "        # print(reception_time)\n",
        "        In_phase_data = In_phase_data.tolist()\n",
        "        # print(In_phase_data)\n",
        "        Quadrature_data = Quadrature_data.tolist()\n",
        "        # print(Quadrature_data)\n",
        "        Amplitude = Amplitude.tolist()\n",
        "        # print(Amplitude)\n",
        "        \n",
        "        # 하나의 리스트에 각각의 data 정보 저장.(append()로 값을 data_list에 삽입, extend()로 리스트 병합)\n",
        "        data_list = []\n",
        "        data_list.append(rader_number)\n",
        "        data_list.extend(reception_time)\n",
        "        data_list.extend(In_phase_data)\n",
        "        data_list.extend(Quadrature_data)\n",
        "        data_list.extend(Amplitude)\n",
        "        # print(data_list)\n",
        "        # print(len(data_list))\n",
        "\n",
        "        # 데이터 프레임 생성 및, final_data 추가.\n",
        "    \n",
        "        final_df.iloc[num] = final_df.iloc[num] = data_list\n",
        "        \n",
        "    # final_df 를 csv(txt)파일로 저장.\n",
        "    # final_df.to_csv(\"injury45.csv\", mode='w', header=False, index = False, line_terminator = '\\n')\n",
        "    \n",
        "        "
      ],
      "execution_count": null,
      "outputs": []
    },
    {
      "cell_type": "code",
      "metadata": {
        "id": "zgp2e38YMU0N"
      },
      "source": [
        "final_df"
      ],
      "execution_count": null,
      "outputs": []
    },
    {
      "cell_type": "markdown",
      "metadata": {
        "id": "EC96Yum0PtJC"
      },
      "source": [
        "## 다른 파일도 사용 가능하도록 함수로 만들었습니다.\n",
        "#### filename에 '파일명' (파일 확장자 .bin 제외) 입력하면 DataFrame 리턴 및 '파일명'.csv(txt) 파일 생성 됩니다.\n",
        "\n",
        "\n",
        "\n"
      ]
    },
    {
      "cell_type": "code",
      "metadata": {
        "id": "JtmMKsFPbt6a"
      },
      "source": [
        "import numpy as np\n",
        "import pandas as pd\n",
        "def bin_to_txt(filename):\n",
        "    with open('/content/drive/MyDrive/Colab Notebooks/project/{}.bin'.format(filename),'rb') as f:    #injury45.bin 읽어오기.\n",
        "        filename_bin = f.read()\n",
        "        number_of_frames= len(filename_bin) // 1469  # Frame Data 개수 : 1046\n",
        "        \n",
        "        ###DataFrame 만들기###\n",
        "\n",
        "        # DataFrame column 만들기\n",
        "        col = ['radar_number', 'reception_time']\n",
        "        In_phase_data_name = []\n",
        "        Quadrature_data_name = []\n",
        "        Amplitude_data_name= []\n",
        "        for i in range(181):\n",
        "            In_phase_data_number = 'In_phase_data_{}'.format(i+1)\n",
        "            Quadrature_data_number = 'Qudrature_data_{}'.format(i+1)\n",
        "            Amplitude_data_number = 'Amplitude_{}'.format(i+1)\n",
        "\n",
        "        # append()로 값을 data_list에 삽입, extend()로 리스트 병합\n",
        "            In_phase_data_name.append(In_phase_data_number)\n",
        "            Quadrature_data_name.append(Quadrature_data_number)\n",
        "            Amplitude_data_name.append(Amplitude_data_number)\n",
        "\n",
        "        col.extend(In_phase_data_name)\n",
        "        col.extend(Quadrature_data_name)\n",
        "        col.extend(Amplitude_data_name)\n",
        "\n",
        "        #데이터 프레임 생성\n",
        "        final_df = pd.DataFrame(index = range(number_of_frames),columns=col)  #data의 수만큼 인덱스를 만들고, columns에는 col을 넣는다.\n",
        "\n",
        "        \n",
        "    \n",
        "        for num in range(number_of_frames):  #number_of_frames\n",
        "            print('Data-Frame-number :','dataframe_{}'.format(num+1))\n",
        "            globals()['dataframe_{}'.format(num+1)] = filename_bin[1469*num:1469*(num+1)] # Raw Data 한 프레임을 순차적으로  dataframe_(num+1) 변수에 저장, globals(): 변수명 자동화 함수 -> injury45_dataframe_0, injury45_dataframe_1, injury45_dataframe_2 ... injury45_dataframe_1046 변수를 자동으로 만들어 준다.  \n",
        "            \n",
        "            \n",
        "            #rader번호 출력\n",
        "            rader_number = globals()['dataframe_{}'.format(num+1)][0] #1byte의 바이너리 데이터를 추출하면 자동으로 unpack이 된다.\n",
        "            # print(f'rader_number: {rader_number}')     # 1이 출력.\n",
        "\n",
        "            #수신시각 출력\n",
        "            reception_time = np.frombuffer(globals()['dataframe_{}'.format(num+1)][1:9],dtype='<d')   # reception_time : 수신 시각, frombuffer()은 바이너리 데이터로 패킹된 데이터를 언 패킹해줌.'<d' : 데이터순서가 리틀 엔디안 방식으로 된 데이터를 8byte 크기의 float 형으로 변환 하겠다는 의미.\n",
        "            # print(f'reception_time: {reception_time}')\n",
        "\n",
        "            #1부터 181까지 In-phase-data 출력\n",
        "            In_phase_data = np.frombuffer(globals()['dataframe_{}'.format(num+1)][21:745],dtype='<f')  \n",
        "            # print(f'in-phase-data의 개수 :{len(In_phase_data)}')        # In_phase_data의 개수 \n",
        "            # print(In_phase_data)             \n",
        "\n",
        "            # 1부터 181까지 Quadrature_data 출력 \n",
        "            Quadrature_data = np.frombuffer(globals()['dataframe_{}'.format(num+1)][745:],dtype='<f')\n",
        "            # print(f'Quadrature_data의 개수 :{len(Quadrature_data)}')\n",
        "            # print(Quadrature_data)\n",
        "\n",
        "            #해당 Data-Frame 레이더 신호의 진폭(Amplitude) 출력  \n",
        "            # Amplitude = ((In_phase_data)**2 + (Quadrature_data)**2) ** (1/2)\n",
        "            Amplitude = np.sqrt(np.square(In_phase_data) + np.square(Quadrature_data))\n",
        "            # print(f'Amplitude의 개수 :{len(Amplitude)}')\n",
        "            # print(Amplitude)\n",
        "            \n",
        "            #tolist()사용하여 numpy array를 list로 변환. \n",
        "            reception_time = reception_time.tolist()\n",
        "            # print(reception_time)\n",
        "            In_phase_data = In_phase_data.tolist()\n",
        "            # print(In_phase_data)\n",
        "            Quadrature_data = Quadrature_data.tolist()\n",
        "            # print(Quadrature_data)\n",
        "            Amplitude = Amplitude.tolist()\n",
        "            # print(Amplitude)\n",
        "            \n",
        "            # 하나의 리스트에 각각의 data 정보 저장.(append()로 값을 data_list에 삽입, extend()로 리스트 병합)\n",
        "            data_list = []\n",
        "            data_list.append(rader_number)\n",
        "            data_list.extend(reception_time)\n",
        "            data_list.extend(In_phase_data)\n",
        "            data_list.extend(Quadrature_data)\n",
        "            data_list.extend(Amplitude)\n",
        "            # print(data_list)\n",
        "            # print(len(data_list))\n",
        "\n",
        "            # 데이터 프레임 생성 및, final_data 추가.\n",
        "        \n",
        "            final_df.iloc[num] = final_df.iloc[num] = data_list\n",
        "            \n",
        "        # final_df 를 csv(txt)파일로 저장.\n",
        "        # final_df.to_csv(\"{}.csv\".format(filename), mode='w', header=False, index = False, line_terminator = '\\n')\n",
        "    return final_df"
      ],
      "execution_count": null,
      "outputs": []
    },
    {
      "cell_type": "code",
      "metadata": {
        "id": "XqbpBQfJOUye"
      },
      "source": [
        "bin_to_txt('collapse1')"
      ],
      "execution_count": null,
      "outputs": []
    },
    {
      "cell_type": "code",
      "metadata": {
        "id": "4c5iDcE7Ou79"
      },
      "source": [
        ""
      ],
      "execution_count": null,
      "outputs": []
    }
  ]
}