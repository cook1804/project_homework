{
  "nbformat": 4,
  "nbformat_minor": 0,
  "metadata": {
    "colab": {
      "name": "데이터전처리2.ipynb",
      "private_outputs": true,
      "provenance": [],
      "collapsed_sections": []
    },
    "kernelspec": {
      "name": "python3",
      "display_name": "Python 3"
    },
    "language_info": {
      "name": "python"
    }
  },
  "cells": [
    {
      "cell_type": "code",
      "metadata": {
        "id": "6wLv3pT6HPAP"
      },
      "source": [
        "from google.colab import drive\n",
        "drive.mount('/content/drive')"
      ],
      "execution_count": null,
      "outputs": []
    },
    {
      "cell_type": "code",
      "metadata": {
        "id": "DjirELZBHY7V"
      },
      "source": [
        "import numpy as np\n",
        "import pandas as pd \n",
        "with open(\"/content/drive/MyDrive/Colab Notebooks/project/데이터 전처리/fall381.txt\", \"rt\") as f: \n",
        "    data = f.readlines()\n",
        "\n",
        "    # 전체 데이터 한줄씩 불러오기\n",
        "    for i in data:\n",
        "        print(i)"
      ],
      "execution_count": null,
      "outputs": []
    },
    {
      "cell_type": "code",
      "metadata": {
        "id": "v7J6cHipHZmt"
      },
      "source": [
        "\n",
        "  # DataFrame column 만들기 \n",
        "\"\"\"데이터프레임을 만드는 이유:\n",
        "  1.데이터를 확인한 뒤 필요한 데이터만 추출, 2.한번에 리스트나 numpy.array로 바꾸기 쉽기 때문이다.\"\"\"\n",
        "col = ['user', 'reception_time'] # col list에 데이터프레임의 column 이름을 저장함. user와 reception_time은 단일 이름이므로 미리 넣어둠.\n",
        "distance_col_list = []  # 이 list에 distance_radar_1,2,3,4 를 넣기 위해 빈 리스트 생성\n",
        "speed_col_list = []     \n",
        "    \n",
        "for i in range(4):    \n",
        "    distance = 'distance_radar_{}'.format(i+1)\n",
        "    speed = 'speed_radar_{}'.format(i+1)\n",
        "\n",
        "  \n",
        "        \n",
        "    distance_col_list.append(distance)  #distance_col_list에 for문에 distance_radar_1,2,3,4를 삽입.\n",
        "    speed_col_list.append(speed)\n",
        "\n",
        "    \n",
        "col.extend(distance_col_list)    # col list에 distance_col_list, speed_col_list를 병합.\n",
        "col.extend(speed_col_list)\n",
        "\n",
        "    #데이터 프레임 생성\n",
        "df = pd.DataFrame(index =range(len(data)),columns=col)  #data의 수만큼 인덱스를 만들고, columns에는 col을 넣는다.\n"
      ],
      "execution_count": null,
      "outputs": []
    },
    {
      "cell_type": "code",
      "metadata": {
        "id": "9D7CL1hTHdHl"
      },
      "source": [
        "for i in range(len(data)):\n",
        "    df.iloc[i] = data[i].strip().split(',')"
      ],
      "execution_count": null,
      "outputs": []
    },
    {
      "cell_type": "code",
      "metadata": {
        "id": "uWy9OPijMLu9"
      },
      "source": [
        "df = df.astype('float')"
      ],
      "execution_count": null,
      "outputs": []
    },
    {
      "cell_type": "code",
      "metadata": {
        "id": "IOT8fAsPHfih"
      },
      "source": [
        "distance_all_df = df[['distance_radar_1','distance_radar_2','distance_radar_3','distance_radar_4']]"
      ],
      "execution_count": null,
      "outputs": []
    },
    {
      "cell_type": "code",
      "metadata": {
        "id": "560w-5tVHibe"
      },
      "source": [
        "distance_all_df"
      ],
      "execution_count": null,
      "outputs": []
    },
    {
      "cell_type": "code",
      "metadata": {
        "id": "lSez2iXNlrFj"
      },
      "source": [
        "# # 0을 nan값으로 변경 후   (3) DataFrame 값에 선형으로 비례하는 방식으로 결측값 보간 , df_intp_values = df.interpolate(method='values')\n",
        "# distance_all_df = distance_all_df.replace(0,np.nan)\n"
      ],
      "execution_count": null,
      "outputs": []
    },
    {
      "cell_type": "code",
      "metadata": {
        "id": "p5vMF0eNmzLF"
      },
      "source": [
        "# distance_all_df.iloc[267].isnull().sum()\n",
        "# #         distance_all_df.drop(distance_all_df.index[i],inplace=True)\n",
        "\n"
      ],
      "execution_count": null,
      "outputs": []
    },
    {
      "cell_type": "code",
      "metadata": {
        "id": "5ZuLvEtPI7AO"
      },
      "source": [
        "distance_all_list = distance_all_df.values.tolist()"
      ],
      "execution_count": null,
      "outputs": []
    },
    {
      "cell_type": "code",
      "metadata": {
        "id": "nkqQM4QTN_VR"
      },
      "source": [
        "distance_all_dic = {}\n",
        "for i,frame in enumerate(distance_all_list):\n",
        "    distance_all_dic[i] = frame"
      ],
      "execution_count": null,
      "outputs": []
    },
    {
      "cell_type": "code",
      "metadata": {
        "id": "nYL7wSolX_rV"
      },
      "source": [
        "distance_all_dic"
      ],
      "execution_count": null,
      "outputs": []
    },
    {
      "cell_type": "code",
      "metadata": {
        "id": "BttQ55iK7B5l"
      },
      "source": [
        "# #drop 하기 전 인덱스 column 만들기\n",
        "# df_index = list(distance_all_dic.keys())\n",
        "\n",
        "# df =  df.assign(original_index = df_index)\n",
        "# df"
      ],
      "execution_count": null,
      "outputs": []
    },
    {
      "cell_type": "markdown",
      "metadata": {
        "id": "dVu16DKdBlMm"
      },
      "source": [
        "### distance_radar 3개 이상이 0인 경우 -> drop"
      ]
    },
    {
      "cell_type": "code",
      "metadata": {
        "id": "StFZBrzHYRhX"
      },
      "source": [
        "drop_dic = {}            # 0이 3,4개인 frame을 drop_dic에 저장.\n",
        "for i in distance_all_dic:\n",
        "    if distance_all_dic[i].count(0) >= 3:\n",
        "        drop_dic[i] = distance_all_dic[i]"
      ],
      "execution_count": null,
      "outputs": []
    },
    {
      "cell_type": "code",
      "metadata": {
        "id": "Q7yA3W90YoED"
      },
      "source": [
        "drop_key_list = list(drop_dic.keys())"
      ],
      "execution_count": null,
      "outputs": []
    },
    {
      "cell_type": "code",
      "metadata": {
        "id": "9YeM4rGUZFnB"
      },
      "source": [
        "print(drop_key_list)\n",
        "print(len(drop_key_list))"
      ],
      "execution_count": null,
      "outputs": []
    },
    {
      "cell_type": "code",
      "metadata": {
        "id": "J1X6-P763T3u"
      },
      "source": [
        " df_drop = df.drop(df.index[drop_key_list])"
      ],
      "execution_count": null,
      "outputs": []
    },
    {
      "cell_type": "code",
      "metadata": {
        "id": "5s9bfjLRCF6e"
      },
      "source": [
        "df_drop"
      ],
      "execution_count": null,
      "outputs": []
    },
    {
      "cell_type": "code",
      "metadata": {
        "id": "fsQ5oc6TCMma"
      },
      "source": [
        "#인덱스 재정렬\n",
        "df_drop.reset_index(drop=False,inplace=True)  # drop=False 기존 인덱스 drop하지 않는다. \n",
        "df_drop.rename(columns={'index':'original_index'},inplace=True)\n",
        "df_drop"
      ],
      "execution_count": null,
      "outputs": []
    },
    {
      "cell_type": "code",
      "metadata": {
        "id": "11HiF8VI3kpJ"
      },
      "source": [
        "df_drop_distance = df_drop[['distance_radar_1','distance_radar_2','distance_radar_3','distance_radar_4']]\n",
        "df_drop_distance"
      ],
      "execution_count": null,
      "outputs": []
    },
    {
      "cell_type": "code",
      "metadata": {
        "id": "0ghRT6G44M16"
      },
      "source": [
        "df_drop_distance.plot(y=['distance_radar_1','distance_radar_2','distance_radar_3','distance_radar_4'],xlim = (0,300) ,ylim=(0,5),figsize=(8,10))\n",
        "df.plot(y=['distance_radar_1','distance_radar_2','distance_radar_3','distance_radar_4'],xlim = (0,300) ,ylim=(0,5),figsize=(8,10))"
      ],
      "execution_count": null,
      "outputs": []
    },
    {
      "cell_type": "code",
      "metadata": {
        "id": "ZbiNAB9O5LuD"
      },
      "source": [
        "# def interpolated(df):\n",
        "#     temp=[]\n",
        "#     for i in df['ID'].unique():\n",
        "#         temp.append(df[df['ID']==i].interpolate())\n",
        "#     new_df=pd.concat(temp,axis=0)\n",
        "#     return new_df"
      ],
      "execution_count": null,
      "outputs": []
    },
    {
      "cell_type": "markdown",
      "metadata": {
        "id": "vAla8_0gKDnr"
      },
      "source": [
        "### 보간 "
      ]
    },
    {
      "cell_type": "code",
      "metadata": {
        "id": "oTCgLz1oLgYy"
      },
      "source": [
        "df_drop_distance = df_drop_distance.replace(0,np.NaN)\n",
        "df_drop_distance\n",
        "# 처음부터 0인 경우 \n",
        "\n",
        "# 처음부터 0이 아닌 경우."
      ],
      "execution_count": null,
      "outputs": []
    },
    {
      "cell_type": "code",
      "metadata": {
        "id": "hgrku7gBZLon"
      },
      "source": [
        ""
      ],
      "execution_count": null,
      "outputs": []
    },
    {
      "cell_type": "code",
      "metadata": {
        "id": "FPEISEHhZLtG"
      },
      "source": [
        ""
      ],
      "execution_count": null,
      "outputs": []
    },
    {
      "cell_type": "code",
      "metadata": {
        "id": "-piwzNs9gDo1"
      },
      "source": [
        "df_drop_distance_intp = df_drop_distance.interpolate(limit_direction='both',method='values')\n",
        "df_drop_distance_intp.fillna(0.01)"
      ],
      "execution_count": null,
      "outputs": []
    },
    {
      "cell_type": "code",
      "metadata": {
        "id": "WHNnaOlEdWPO"
      },
      "source": [
        "df_drop_distance_intp"
      ],
      "execution_count": null,
      "outputs": []
    },
    {
      "cell_type": "code",
      "metadata": {
        "id": "F03Yq5wu93kP"
      },
      "source": [
        "df_drop_distance_intp.plot(y=['distance_radar_1','distance_radar_2','distance_radar_3','distance_radar_4'],xlim = (0,300) ,ylim=(0,5),figsize=(8,10))\n",
        "df_drop_distance.plot(y=['distance_radar_1','distance_radar_2','distance_radar_3','distance_radar_4'],xlim = (0,300) ,ylim=(0,5),figsize=(8,10))"
      ],
      "execution_count": null,
      "outputs": []
    },
    {
      "cell_type": "code",
      "metadata": {
        "id": "YlWUKJbI-I64"
      },
      "source": [
        ""
      ],
      "execution_count": null,
      "outputs": []
    }
  ]
}