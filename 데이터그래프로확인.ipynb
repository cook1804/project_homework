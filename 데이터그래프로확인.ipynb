{
  "nbformat": 4,
  "nbformat_minor": 0,
  "metadata": {
    "colab": {
      "name": "데이터그래프로확인.ipynb",
      "private_outputs": true,
      "provenance": [],
      "collapsed_sections": []
    },
    "kernelspec": {
      "name": "python3",
      "display_name": "Python 3"
    },
    "language_info": {
      "name": "python"
    }
  },
  "cells": [
    {
      "cell_type": "code",
      "metadata": {
        "id": "Y3A0QZTGFLQp"
      },
      "source": [
        "from google.colab import drive\n",
        "drive.mount('/content/drive')"
      ],
      "execution_count": null,
      "outputs": []
    },
    {
      "cell_type": "code",
      "metadata": {
        "id": "FPuRT-r2GLA5"
      },
      "source": [
        "import pandas as pd\n",
        "%matplotlib inline\n",
        "def data_view(a):\n",
        "\n",
        "\n",
        "    with open(f\"/content/drive/MyDrive/Colab Notebooks/project/데이터 전처리/{a}\", \"rt\") as f: \n",
        "        data = f.readlines()\n",
        "    \n",
        "        \n",
        "    col = ['user', 'reception_time'] # col list에 데이터프레임의 column 이름을 저장함. user와 reception_time은 단일 이름이므로 미리 넣어둠.\n",
        "    distance_col_list = []  # 이 list에 distance_radar_1,2,3,4 를 넣기 위해 빈 리스트 생성\n",
        "    speed_col_list = []     \n",
        "        \n",
        "    for i in range(4):    \n",
        "        distance = 'distance_radar_{}'.format(i+1)\n",
        "        speed = 'speed_radar_{}'.format(i+1)\n",
        "\n",
        "    \n",
        "            \n",
        "        distance_col_list.append(distance)  #distance_col_list에 for문에 distance_radar_1,2,3,4를 삽입.\n",
        "        speed_col_list.append(speed)\n",
        "\n",
        "        \n",
        "    col.extend(distance_col_list)    # col list에 distance_col_list, speed_col_list를 병합.\n",
        "    col.extend(speed_col_list)\n",
        "\n",
        "        #데이터 프레임 생성\n",
        "    df = pd.DataFrame(index =range(len(data)),columns=col)  #data의 수만큼 인덱스를 만들고, columns에는 col을 넣는다.\n",
        " \n",
        "    for i in range(len(data)):\n",
        "        df.iloc[i] = data[i].strip().split(',')\n",
        "\n",
        "    distance_all = df[['distance_radar_1','distance_radar_2','distance_radar_3','distance_radar_4']]\n",
        "    distance_all = distance_all.astype('float')\n",
        "    \n",
        "    \n",
        "    distance1_2 = distance_all[['distance_radar_1','distance_radar_2']]\n",
        "    distance2_3 = distance_all[['distance_radar_2','distance_radar_3']]\n",
        "    distance3_4 = distance_all[['distance_radar_3','distance_radar_4']]\n",
        "    distance1_4 = distance_all[['distance_radar_1','distance_radar_4']]\n",
        "\n",
        "\n",
        "    distance1_4.plot(y=['distance_radar_1','distance_radar_4'],xlim = (0,300) ,ylim=(0,5),figsize=(8,10))\n",
        "    distance2_3.plot(y=['distance_radar_2','distance_radar_3'],xlim = (0,300) ,ylim=(0,5),figsize=(8,10))\n",
        "    distance1_2.plot(y=['distance_radar_1','distance_radar_2'],xlim = (0,300) ,ylim=(0,5),figsize=(8,10))\n",
        "    distance3_4.plot(y=['distance_radar_3','distance_radar_4'],xlim = (0,300) ,ylim=(0,5),figsize=(8,10))"
      ],
      "execution_count": null,
      "outputs": []
    },
    {
      "cell_type": "code",
      "metadata": {
        "id": "LRoqKPCtGjxR"
      },
      "source": [
        "import pandas as pd \n",
        "  # DataFrame column 만들기 \n",
        "\"\"\"데이터프레임을 만드는 이유:\n",
        "  1.데이터를 확인한 뒤 필요한 데이터만 추출, 2.한번에 리스트나 numpy.array로 바꾸기 쉽기 때문이다.\"\"\"\n",
        "col = ['user', 'reception_time'] # col list에 데이터프레임의 column 이름을 저장함. user와 reception_time은 단일 이름이므로 미리 넣어둠.\n",
        "distance_col_list = []  # 이 list에 distance_radar_1,2,3,4 를 넣기 위해 빈 리스트 생성\n",
        "speed_col_list = []     \n",
        "    \n",
        "for i in range(4):    \n",
        "    distance = 'distance_radar_{}'.format(i+1)\n",
        "    speed = 'speed_radar_{}'.format(i+1)\n",
        "\n",
        "  \n",
        "        \n",
        "    distance_col_list.append(distance)  #distance_col_list에 for문에 distance_radar_1,2,3,4를 삽입.\n",
        "    speed_col_list.append(speed)\n",
        "\n",
        "    \n",
        "col.extend(distance_col_list)    # col list에 distance_col_list, speed_col_list를 병합.\n",
        "col.extend(speed_col_list)\n",
        "\n",
        "    #데이터 프레임 생성\n",
        "df = pd.DataFrame(index =range(len(data)),columns=col)  #data의 수만큼 인덱스를 만들고, columns에는 col을 넣는다.\n"
      ],
      "execution_count": null,
      "outputs": []
    },
    {
      "cell_type": "code",
      "metadata": {
        "id": "_lvnbjtnGtbR"
      },
      "source": [
        "for i in range(len(data)):\n",
        "    df.iloc[i] = data[i].strip().split(',')"
      ],
      "execution_count": null,
      "outputs": []
    },
    {
      "cell_type": "code",
      "metadata": {
        "id": "MZWqnr-PGwyC"
      },
      "source": [
        "distance_all = df[['distance_radar_1','distance_radar_2','distance_radar_3','distance_radar_4']]"
      ],
      "execution_count": null,
      "outputs": []
    },
    {
      "cell_type": "code",
      "metadata": {
        "id": "ZhZYJckpG3KW"
      },
      "source": [
        "distance_all"
      ],
      "execution_count": null,
      "outputs": []
    },
    {
      "cell_type": "code",
      "metadata": {
        "id": "Xj1hh2B2Gz0o"
      },
      "source": [
        "distance_all = distance_all.astype('float')"
      ],
      "execution_count": null,
      "outputs": []
    },
    {
      "cell_type": "code",
      "metadata": {
        "id": "Hscou2pDG4tc"
      },
      "source": [
        "distance1_2 = distance_all[['distance_radar_1','distance_radar_2']]\n",
        "distance2_3 = distance_all[['distance_radar_2','distance_radar_3']]\n",
        "distance3_4 = distance_all[['distance_radar_3','distance_radar_4']]\n",
        "distance1_4 = distance_all[['distance_radar_1','distance_radar_4']]"
      ],
      "execution_count": null,
      "outputs": []
    },
    {
      "cell_type": "code",
      "metadata": {
        "id": "NRzLN8QgHCa-"
      },
      "source": [
        "%matplotlib inline\n",
        "distance1_4.plot(y=['distance_radar_1','distance_radar_4'],xlim = (0,300) ,ylim=(0,5),figsize=(8,10))\n",
        "distance2_3.plot(y=['distance_radar_2','distance_radar_3'],xlim = (0,300) ,ylim=(0,5),figsize=(8,10))\n",
        "distance1_2.plot(y=['distance_radar_1','distance_radar_2'],xlim = (0,300) ,ylim=(0,5),figsize=(8,10))\n",
        "distance3_4.plot(y=['distance_radar_3','distance_radar_4'],xlim = (0,300) ,ylim=(0,5),figsize=(8,10))"
      ],
      "execution_count": null,
      "outputs": []
    },
    {
      "cell_type": "code",
      "metadata": {
        "id": "aEB8lkEpHMBt"
      },
      "source": [
        "data_view('collapse3.txt')"
      ],
      "execution_count": null,
      "outputs": []
    },
    {
      "cell_type": "code",
      "metadata": {
        "id": "FGd4uyKjJGao"
      },
      "source": [
        "data_view('collapse328.txt')"
      ],
      "execution_count": null,
      "outputs": []
    },
    {
      "cell_type": "code",
      "metadata": {
        "id": "h5QceWzNJXkd"
      },
      "source": [
        "data_view('drop266.txt')"
      ],
      "execution_count": null,
      "outputs": []
    },
    {
      "cell_type": "code",
      "metadata": {
        "id": "axzDn_lYJdEL"
      },
      "source": [
        "data_view('fall116.txt')"
      ],
      "execution_count": null,
      "outputs": []
    },
    {
      "cell_type": "code",
      "metadata": {
        "id": "y7CTGIhxJfrA"
      },
      "source": [
        "data_view('fall361.txt')"
      ],
      "execution_count": null,
      "outputs": []
    },
    {
      "cell_type": "code",
      "metadata": {
        "id": "pX48xylbJjpk"
      },
      "source": [
        "data_view('fall381.txt')"
      ],
      "execution_count": null,
      "outputs": []
    },
    {
      "cell_type": "code",
      "metadata": {
        "id": "XmNrLpICJnCa"
      },
      "source": [
        "data_view('fall96.txt')"
      ],
      "execution_count": null,
      "outputs": []
    },
    {
      "cell_type": "code",
      "metadata": {
        "id": "XLN1uaONJrAk"
      },
      "source": [
        "data_view('injury397.txt')"
      ],
      "execution_count": null,
      "outputs": []
    },
    {
      "cell_type": "code",
      "metadata": {
        "id": "Mi4GzWP1JvDA"
      },
      "source": [
        "data_view('injury43.txt')"
      ],
      "execution_count": null,
      "outputs": []
    },
    {
      "cell_type": "code",
      "metadata": {
        "id": "tK2MviPpJ0R4"
      },
      "source": [
        "data_view('scenario8-1.txt')"
      ],
      "execution_count": null,
      "outputs": []
    },
    {
      "cell_type": "code",
      "metadata": {
        "id": "MkVyQ3tsJ5Vx"
      },
      "source": [
        "data_view('sleep4.txt')"
      ],
      "execution_count": null,
      "outputs": []
    },
    {
      "cell_type": "code",
      "metadata": {
        "id": "sU2Rx1HKJ89H"
      },
      "source": [
        ""
      ],
      "execution_count": null,
      "outputs": []
    }
  ]
}