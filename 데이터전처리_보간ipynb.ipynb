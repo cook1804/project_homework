{
  "nbformat": 4,
  "nbformat_minor": 0,
  "metadata": {
    "colab": {
      "name": "데이터전처리_보간ipynb",
      "private_outputs": true,
      "provenance": [],
      "collapsed_sections": []
    },
    "kernelspec": {
      "name": "python3",
      "display_name": "Python 3"
    },
    "language_info": {
      "name": "python"
    }
  },
  "cells": [
    {
      "cell_type": "code",
      "metadata": {
        "id": "tyaRxquAwCFh"
      },
      "source": [
        "from google.colab import drive\n",
        "drive.mount('/content/drive')"
      ],
      "execution_count": null,
      "outputs": []
    },
    {
      "cell_type": "code",
      "metadata": {
        "id": "5oE_trsZwK2H"
      },
      "source": [
        "with open(\"/content/drive/MyDrive/Colab Notebooks/project/데이터 전처리/fall381.txt\", \"rt\") as f: \n",
        "    data = f.readlines()\n",
        "\n",
        "    # 전체 데이터 한줄씩 불러오기\n",
        "    for i in data:\n",
        "        print(i)"
      ],
      "execution_count": null,
      "outputs": []
    },
    {
      "cell_type": "code",
      "metadata": {
        "id": "eZQm-g_VyY7v"
      },
      "source": [
        "import pandas as pd \n",
        "  # DataFrame column 만들기 \n",
        "\"\"\"데이터프레임을 만드는 이유:\n",
        "  1.데이터를 확인한 뒤 필요한 데이터만 추출, 2.한번에 리스트나 numpy.array로 바꾸기 쉽기 때문이다.\"\"\"\n",
        "col = ['user', 'reception_time'] # col list에 데이터프레임의 column 이름을 저장함. user와 reception_time은 단일 이름이므로 미리 넣어둠.\n",
        "distance_col_list = []  # 이 list에 distance_radar_1,2,3,4 를 넣기 위해 빈 리스트 생성\n",
        "speed_col_list = []     \n",
        "    \n",
        "for i in range(4):    \n",
        "    distance = 'distance_radar_{}'.format(i+1)\n",
        "    speed = 'speed_radar_{}'.format(i+1)\n",
        "\n",
        "  \n",
        "        \n",
        "    distance_col_list.append(distance)  #distance_col_list에 for문에 distance_radar_1,2,3,4를 삽입.\n",
        "    speed_col_list.append(speed)\n",
        "\n",
        "    \n",
        "col.extend(distance_col_list)    # col list에 distance_col_list, speed_col_list를 병합.\n",
        "col.extend(speed_col_list)\n",
        "\n",
        "    #데이터 프레임 생성\n",
        "df = pd.DataFrame(index =range(len(data)),columns=col)  #data의 수만큼 인덱스를 만들고, columns에는 col을 넣는다.\n"
      ],
      "execution_count": null,
      "outputs": []
    },
    {
      "cell_type": "code",
      "metadata": {
        "id": "rg85sw0U-4vQ"
      },
      "source": [
        "for i in range(len(data)):\n",
        "    df.iloc[i] = data[i].strip().split(',')"
      ],
      "execution_count": null,
      "outputs": []
    },
    {
      "cell_type": "code",
      "metadata": {
        "id": "qz3w0Q7q_OyP"
      },
      "source": [
        "df"
      ],
      "execution_count": null,
      "outputs": []
    },
    {
      "cell_type": "code",
      "metadata": {
        "id": "mOdo52ui_cIS"
      },
      "source": [
        "distance_all = df[['distance_radar_1','distance_radar_2','distance_radar_3','distance_radar_4']]"
      ],
      "execution_count": null,
      "outputs": []
    },
    {
      "cell_type": "code",
      "metadata": {
        "id": "z2FQ4cfOAAkz"
      },
      "source": [
        "distance_all"
      ],
      "execution_count": null,
      "outputs": []
    },
    {
      "cell_type": "code",
      "metadata": {
        "id": "2_NEP01iAB8v"
      },
      "source": [
        "distance_all = distance_all.astype('float')"
      ],
      "execution_count": null,
      "outputs": []
    },
    {
      "cell_type": "code",
      "metadata": {
        "id": "rUzHGaDYCcha"
      },
      "source": [
        "distance_all.dtypes   # 각 column의 데이터는 float임을 확인."
      ],
      "execution_count": null,
      "outputs": []
    },
    {
      "cell_type": "code",
      "metadata": {
        "id": "vej0Lb_yCnH4"
      },
      "source": [
        "distance1_4 = distance_all[['distance_radar_1','distance_radar_4']]"
      ],
      "execution_count": null,
      "outputs": []
    },
    {
      "cell_type": "code",
      "metadata": {
        "id": "4ht_HZ6LC3LB"
      },
      "source": [
        "distance2_3 = distance_all[['distance_radar_2','distance_radar_3']]"
      ],
      "execution_count": null,
      "outputs": []
    },
    {
      "cell_type": "code",
      "metadata": {
        "id": "fWZmazag_DkU"
      },
      "source": [
        "distance1_2 = distance_all[['distance_radar_1','distance_radar_2']]"
      ],
      "execution_count": null,
      "outputs": []
    },
    {
      "cell_type": "code",
      "metadata": {
        "id": "bAMvXBHl_KvC"
      },
      "source": [
        "distance3_4 = distance_all[['distance_radar_3','distance_radar_4']]"
      ],
      "execution_count": null,
      "outputs": []
    },
    {
      "cell_type": "code",
      "metadata": {
        "id": "glr5cY8ODAaW"
      },
      "source": [
        "#튀는 값이 있긴 하지만 대각선 데이터는 반비례할것이라는 것을 추정할 수 있다. \n",
        "%matplotlib inline\n",
        "distance1_4.plot(y=['distance_radar_1','distance_radar_4'],xlim = (0,300) ,ylim=(0,5),figsize=(8,10))"
      ],
      "execution_count": null,
      "outputs": []
    },
    {
      "cell_type": "code",
      "metadata": {
        "id": "Fr80t0BNDdhi"
      },
      "source": [
        "distance2_3.plot(y=['distance_radar_2','distance_radar_3'],xlim = (0,300) ,ylim=(0,5),figsize=(8,10))"
      ],
      "execution_count": null,
      "outputs": []
    },
    {
      "cell_type": "code",
      "metadata": {
        "id": "eWl4VWsu_YdD"
      },
      "source": [
        "distance1_2.plot(y=['distance_radar_1','distance_radar_2'],xlim = (0,300) ,ylim=(0,5),figsize=(8,10))"
      ],
      "execution_count": null,
      "outputs": []
    },
    {
      "cell_type": "code",
      "metadata": {
        "id": "dgALRvEY_gP-"
      },
      "source": [
        "distance3_4.plot(y=['distance_radar_3','distance_radar_4'],xlim = (0,300) ,ylim=(0,5),figsize=(8,10))"
      ],
      "execution_count": null,
      "outputs": []
    },
    {
      "cell_type": "code",
      "metadata": {
        "id": "x-edUhFaF6sG"
      },
      "source": [
        "distance_all_list = distance_all.values.tolist()"
      ],
      "execution_count": null,
      "outputs": []
    },
    {
      "cell_type": "code",
      "metadata": {
        "id": "pDaaZDfXF9Ks"
      },
      "source": [
        "zero_index_num = []\n",
        "for i in range(len(distance_all_list)):\n",
        "    zero_count = distance_all_list[i].count(0)\n",
        "    print(zero_count)\n",
        "    print(i)\n",
        "    if zero_count !=0:   #0이 있을때 \n",
        "        zero_index_num.append(i)\n",
        "   \n"
      ],
      "execution_count": null,
      "outputs": []
    },
    {
      "cell_type": "code",
      "metadata": {
        "id": "bDB8XxuOILis"
      },
      "source": [
        "zero_index_num"
      ],
      "execution_count": null,
      "outputs": []
    },
    {
      "cell_type": "code",
      "metadata": {
        "id": "aG2q1H9sKGgG"
      },
      "source": [
        "for i in zero_index_num:\n",
        "    print(distance_all_list[i])"
      ],
      "execution_count": null,
      "outputs": []
    },
    {
      "cell_type": "code",
      "metadata": {
        "id": "0QCfL_meimab"
      },
      "source": [
        "distance_all_dic = {}\n",
        "for i,distance_data1 in enumerate(distance_all_list):\n",
        "    distance_all_dic[i] = distance_data1\n",
        "\n",
        "distance_all_dic"
      ],
      "execution_count": null,
      "outputs": []
    },
    {
      "cell_type": "code",
      "metadata": {
        "id": "wRHprVL-k7np"
      },
      "source": [
        "\"\"\"데이터 중 비슷한 값으로 넣는것은 별로 좋지 않은 선택이다. \n",
        "데이터를 잘 살펴보면 알 수 있는데, 만약 (R1,R4)에서 R1 값이 없어서 주변에 있는 값이 아닌 멀리 떨어진 값을 R4가 비슷하다고 넣어주게 되면,\n",
        "그렇게 선형적이라고 할 수 없는 값을 대입하게 되고 ,또 R1이 커지면 R4가 커진만큼 작아지는게 아니고 오히려 조금 커질수도 있다 . 그래서 주변 값을 찾아서 주변값을 넣어주어야한다. \"\"\" "
      ],
      "execution_count": null,
      "outputs": []
    },
    {
      "cell_type": "code",
      "metadata": {
        "id": "CG21mR9IyJ9q"
      },
      "source": [
        "#(R1,R4) or (R2,R3) 둘다 0일떄는 drop시킨다. \n",
        "drop_distance_dic = {}\n",
        "for i,distance_data2 in enumerate(distance_all_list):\n",
        "    if (distance_data2[0] == 0 and distance_data2[3] == 0) or (distance_data2[1] == 0 and distance_data2[2] == 0):\n",
        "        drop_distance_dic[i] =distance_data2\n",
        "print(drop_distance_dic)      \n",
        "drop_index = list(drop_distance_dic.keys())\n",
        "print(drop_index)\n",
        "\n"
      ],
      "execution_count": null,
      "outputs": []
    },
    {
      "cell_type": "code",
      "metadata": {
        "id": "gIGZpUPx3-EU"
      },
      "source": [
        "# distance_all_dic 에서 drop_distance_dic 키를 빼주면 (R1,R4) or (R2,R3) 이 0인 데이터를 drop하고 남은 데이터만 추출할 수 있다. \n",
        "for i in drop_index:\n",
        "    del distance_all_dic[i]\n"
      ],
      "execution_count": null,
      "outputs": []
    },
    {
      "cell_type": "code",
      "metadata": {
        "id": "NZ-mj0bJ-WzD"
      },
      "source": [
        "distance_all_dic = distance_all_dic    "
      ],
      "execution_count": null,
      "outputs": []
    },
    {
      "cell_type": "code",
      "metadata": {
        "id": "k02I5d6MKpeL"
      },
      "source": [
        "print(len(distance_all_list))\n",
        "print(len(distance_all_dic))\n",
        "print(f'drop시킨 데이터의 개수: {len(distance_all_list) - len(distance_all_dic)}')"
      ],
      "execution_count": null,
      "outputs": []
    },
    {
      "cell_type": "code",
      "metadata": {
        "id": "J0wXeGgxK6W2"
      },
      "source": [
        "distance_all_dic"
      ],
      "execution_count": null,
      "outputs": []
    },
    {
      "cell_type": "code",
      "metadata": {
        "id": "CF4OX9MsoJ5w"
      },
      "source": [
        "for value in distance_all_dic.values():\n",
        "    print(value)\n",
        "    \n",
        "    # print(data[0]) # - data[i][3]\n",
        "    # b = data[i][1] - data[i][2]\n",
        "    # print(f'인덱스 : {i}')\n",
        "    # print(f'radar1과 radar4의 차: {a}')\n",
        "    # print(f'radar2과 radar3의 차: {b}')\n"
      ],
      "execution_count": null,
      "outputs": []
    },
    {
      "cell_type": "code",
      "metadata": {
        "id": "bnSH-3ugtjfi"
      },
      "source": [
        "newdf = pd.DataFrame(index=range(len(distance_all_dic)), columns = ['distance_radar_1','distance_radar_2','distance_radar_3','distance_radar_4'])"
      ],
      "execution_count": null,
      "outputs": []
    },
    {
      "cell_type": "code",
      "metadata": {
        "id": "0alMTaHW6WTU"
      },
      "source": [
        "for i, value in enumerate(distance_all_dic.values()):\n",
        "    newdf.iloc[i] = value\n",
        "    "
      ],
      "execution_count": null,
      "outputs": []
    },
    {
      "cell_type": "code",
      "metadata": {
        "id": "uqdJqjKT6_yw"
      },
      "source": [
        "newdf"
      ],
      "execution_count": null,
      "outputs": []
    },
    {
      "cell_type": "code",
      "metadata": {
        "id": "GxGszF6S7ZnM"
      },
      "source": [
        "newdf1_4 = newdf[['distance_radar_1','distance_radar_4']]\n",
        "newdf2_3 = newdf[['distance_radar_2','distance_radar_3']]\n"
      ],
      "execution_count": null,
      "outputs": []
    },
    {
      "cell_type": "code",
      "metadata": {
        "id": "Cae-xZ-F7Ixj"
      },
      "source": [
        "newdf1_4.plot(y=['distance_radar_1','distance_radar_4'],xlim = (0,300) ,ylim=(0,5),figsize=(8,10))"
      ],
      "execution_count": null,
      "outputs": []
    },
    {
      "cell_type": "code",
      "metadata": {
        "id": "U0aY2-Dt73-Y"
      },
      "source": [
        "newdf2_3.plot(y=['distance_radar_2','distance_radar_3'],xlim = (0,300) ,ylim=(0,5),figsize=(8,10))"
      ],
      "execution_count": null,
      "outputs": []
    },
    {
      "cell_type": "code",
      "metadata": {
        "id": "-MhgHTaR8BoR"
      },
      "source": [
        "newdf_1 = newdf['distance_radar_1']"
      ],
      "execution_count": null,
      "outputs": []
    },
    {
      "cell_type": "code",
      "metadata": {
        "id": "-47hCa8193Mj"
      },
      "source": [
        "newdf_1"
      ],
      "execution_count": null,
      "outputs": []
    },
    {
      "cell_type": "code",
      "metadata": {
        "id": "RxBY82DX-Xeq"
      },
      "source": [
        "newdf_4 = newdf['distance_radar_4']"
      ],
      "execution_count": null,
      "outputs": []
    },
    {
      "cell_type": "code",
      "metadata": {
        "id": "Nclk2Fjz94x5"
      },
      "source": [
        "for i in range(len(newdf_1)-1):\n",
        "    print(newdf_1[i+1] - newdf_1[i])\n",
        "    print(newdf_4[i+1] - newdf_4[i])\n",
        "    print()"
      ],
      "execution_count": null,
      "outputs": []
    },
    {
      "cell_type": "code",
      "metadata": {
        "id": "UZCXTXV399TX"
      },
      "source": [
        ""
      ],
      "execution_count": null,
      "outputs": []
    }
  ]
}